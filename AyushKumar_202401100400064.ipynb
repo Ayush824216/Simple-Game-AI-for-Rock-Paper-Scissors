{
  "nbformat": 4,
  "nbformat_minor": 0,
  "metadata": {
    "colab": {
      "provenance": []
    },
    "kernelspec": {
      "name": "python3",
      "display_name": "Python 3"
    },
    "language_info": {
      "name": "python"
    }
  },
  "cells": [
    {
      "cell_type": "code",
      "execution_count": null,
      "metadata": {
        "colab": {
          "base_uri": "https://localhost:8080/"
        },
        "id": "VOTwT3T4NR4x",
        "outputId": "ae1ffca7-a446-4a5d-a9b8-a39edab46c4b"
      },
      "outputs": [
        {
          "output_type": "stream",
          "name": "stdout",
          "text": [
            "Welcome to Rock-Paper-Scissors!\n",
            "Enter rock, paper, or scissors (or 'quit' to exit): rock\n",
            "Computer chose: rock\n",
            "It's a tie!\n",
            "\n",
            "Enter rock, paper, or scissors (or 'quit' to exit): paper\n",
            "Computer chose: rock\n",
            "You win!\n",
            "\n",
            "Enter rock, paper, or scissors (or 'quit' to exit): rock\n",
            "Computer chose: scissors\n",
            "You win!\n",
            "\n",
            "Enter rock, paper, or scissors (or 'quit' to exit): scissors\n",
            "Computer chose: rock\n",
            "Computer wins!\n",
            "\n"
          ]
        }
      ],
      "source": [
        "import random\n",
        "\n",
        "# Function to get the computer's choice randomly\n",
        "def get_computer_choice():\n",
        "    return random.choice([\"rock\", \"paper\", \"scissors\"])\n",
        "\n",
        "# Function to determine the winner based on the game rules\n",
        "def determine_winner(player, computer):\n",
        "    if player == computer:\n",
        "        return \"It's a tie!\"\n",
        "    elif (player == \"rock\" and computer == \"scissors\") or \\\n",
        "         (player == \"scissors\" and computer == \"paper\") or \\\n",
        "         (player == \"paper\" and computer == \"rock\"):\n",
        "        return \"You win!\"\n",
        "    else:\n",
        "        return \"Computer wins!\"\n",
        "\n",
        "# Main function to handle the game loop\n",
        "def main():\n",
        "    print(\"Welcome to Rock-Paper-Scissors!\")\n",
        "    choices = [\"rock\", \"paper\", \"scissors\"]\n",
        "\n",
        "    while True:\n",
        "        # Prompt the user for input\n",
        "        player_choice = input(\"Enter rock, paper, or scissors (or 'quit' to exit): \").lower()\n",
        "\n",
        "        # Allow the user to exit the game\n",
        "        if player_choice == 'quit':\n",
        "            print(\"Thanks for playing!\")\n",
        "            break\n",
        "\n",
        "        # Validate user input\n",
        "        if player_choice not in choices:\n",
        "            print(\"Invalid choice. Please try again.\")\n",
        "            continue\n",
        "\n",
        "        # Get the computer's choice\n",
        "        computer_choice = get_computer_choice()\n",
        "        print(f\"Computer chose: {computer_choice}\")\n",
        "\n",
        "        # Determine and display the result\n",
        "        result = determine_winner(player_choice, computer_choice)\n",
        "        print(result)\n",
        "        print()\n",
        "\n",
        "# Entry point of the program\n",
        "if __name__ == \"__main__\":\n",
        "    main()\n"
      ]
    }
  ]
}